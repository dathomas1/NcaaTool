{
  "nbformat": 4,
  "nbformat_minor": 0,
  "metadata": {
    "colab": {
      "name": "HS Football Recruits.ipynb",
      "provenance": [],
      "collapsed_sections": [],
      "toc_visible": true,
      "authorship_tag": "ABX9TyP7O3P49Mmd7lS5JNMiGlhz",
      "include_colab_link": true
    },
    "kernelspec": {
      "name": "python3",
      "display_name": "Python 3"
    }
  },
  "cells": [
    {
      "cell_type": "markdown",
      "metadata": {
        "id": "view-in-github",
        "colab_type": "text"
      },
      "source": [
        "<a href=\"https://colab.research.google.com/github/dathomas1/NcaaTool/blob/master/HS_Football_Recruits.ipynb\" target=\"_parent\"><img src=\"https://colab.research.google.com/assets/colab-badge.svg\" alt=\"Open In Colab\"/></a>"
      ]
    },
    {
      "cell_type": "markdown",
      "metadata": {
        "id": "7lbvqQK_Y5_I"
      },
      "source": [
        "# Purpose\n",
        "Identify trends in what makes a 5-star high school football recruit. I will consider height, weight, and hometown. I will also trend what college recruits go to and who makes it to the NFL with links to there Pro-Football-Reference page.\n",
        "\n",
        "## Import Data"
      ]
    },
    {
      "cell_type": "code",
      "metadata": {
        "id": "xpkALKwNY43G"
      },
      "source": [
        "import pandas as pd\n",
        "\n",
        "# Range of recruit years\n",
        "RECRUIT_YEAR_START = 2000\n",
        "RECRUIT_YEAR_END = 2019\n",
        "\n",
        "# Url to high school recruit data on github\n",
        "url = \"https://raw.githubusercontent.com/dathomas1/NcaaTool/master/CSV/HighSchool%20-%20{0}%20Player%20Rankings.csv\"\n",
        "\n",
        "def get_recruit_filenames(start, end, url, skip=[-9999]):\n",
        "  filenames = []\n",
        "  for year in range(start, end + 1):\n",
        "    if (year in skip):\n",
        "      continue\n",
        "    else:\n",
        "      filenames.append(url.format(year))\n",
        "  \n",
        "  return filenames\n",
        "\n",
        "def dataframe_from_filenames(filenames):\n",
        "  dataframes = []\n",
        "  for f in filenames:\n",
        "    dataframe = pd.read_csv(f)\n",
        "    dataframe['source'] = f\n",
        "    dataframe.dropna(thresh=4)\n",
        "    dataframes.append(dataframe)\n",
        "\n",
        "    combined_dataframe = pd.concat(dataframes, axis=0, ignore_index=True)\n",
        "      \n",
        "  return combined_dataframe\n",
        "\n",
        "hs_filenames = get_recruit_filenames(RECRUIT_YEAR_START, RECRUIT_YEAR_END, url)\n",
        "\n",
        "# Recruit data frame\n",
        "df = dataframe_from_filenames(hs_filenames)\n",
        "\n"
      ],
      "execution_count": 87,
      "outputs": []
    },
    {
      "cell_type": "code",
      "metadata": {
        "id": "YXnoDHmmuM3P",
        "outputId": "92d41299-9002-4502-cd9e-58ee3509041c",
        "colab": {
          "base_uri": "https://localhost:8080/",
          "height": 445
        }
      },
      "source": [
        "# View Data so far\n",
        "df.head()"
      ],
      "execution_count": 85,
      "outputs": [
        {
          "output_type": "execute_result",
          "data": {
            "text/html": [
              "<div>\n",
              "<style scoped>\n",
              "    .dataframe tbody tr th:only-of-type {\n",
              "        vertical-align: middle;\n",
              "    }\n",
              "\n",
              "    .dataframe tbody tr th {\n",
              "        vertical-align: top;\n",
              "    }\n",
              "\n",
              "    .dataframe thead th {\n",
              "        text-align: right;\n",
              "    }\n",
              "</style>\n",
              "<table border=\"1\" class=\"dataframe\">\n",
              "  <thead>\n",
              "    <tr style=\"text-align: right;\">\n",
              "      <th></th>\n",
              "      <th>ranking</th>\n",
              "      <th>name</th>\n",
              "      <th>highSchool</th>\n",
              "      <th>position</th>\n",
              "      <th>height</th>\n",
              "      <th>weight</th>\n",
              "      <th>stars</th>\n",
              "      <th>rating</th>\n",
              "      <th>college</th>\n",
              "      <th>source</th>\n",
              "    </tr>\n",
              "  </thead>\n",
              "  <tbody>\n",
              "    <tr>\n",
              "      <th>0</th>\n",
              "      <td>1</td>\n",
              "      <td>D.J. Williams</td>\n",
              "      <td>De La Salle (Concord, CA)</td>\n",
              "      <td>ILB</td>\n",
              "      <td>6-2</td>\n",
              "      <td>235</td>\n",
              "      <td>5.0</td>\n",
              "      <td>0.9998</td>\n",
              "      <td>Miami</td>\n",
              "      <td>https://raw.githubusercontent.com/dathomas1/Nc...</td>\n",
              "    </tr>\n",
              "    <tr>\n",
              "      <th>1</th>\n",
              "      <td>2</td>\n",
              "      <td>Brock Berlin</td>\n",
              "      <td>Evangel Christian Academy (Shreveport, LA)</td>\n",
              "      <td>PRO</td>\n",
              "      <td>6-2</td>\n",
              "      <td>190</td>\n",
              "      <td>5.0</td>\n",
              "      <td>0.9998</td>\n",
              "      <td>Florida</td>\n",
              "      <td>https://raw.githubusercontent.com/dathomas1/Nc...</td>\n",
              "    </tr>\n",
              "    <tr>\n",
              "      <th>2</th>\n",
              "      <td>3</td>\n",
              "      <td>Charles Rogers</td>\n",
              "      <td>Saginaw (Saginaw, MI)</td>\n",
              "      <td>WR</td>\n",
              "      <td>6-4</td>\n",
              "      <td>195</td>\n",
              "      <td>5.0</td>\n",
              "      <td>0.9988</td>\n",
              "      <td>Michigan State</td>\n",
              "      <td>https://raw.githubusercontent.com/dathomas1/Nc...</td>\n",
              "    </tr>\n",
              "    <tr>\n",
              "      <th>3</th>\n",
              "      <td>4</td>\n",
              "      <td>Travis Johnson</td>\n",
              "      <td>Notre Dame (Sherman Oaks, CA)</td>\n",
              "      <td>SDE</td>\n",
              "      <td>6-4</td>\n",
              "      <td>265</td>\n",
              "      <td>5.0</td>\n",
              "      <td>0.9982</td>\n",
              "      <td>Florida State</td>\n",
              "      <td>https://raw.githubusercontent.com/dathomas1/Nc...</td>\n",
              "    </tr>\n",
              "    <tr>\n",
              "      <th>4</th>\n",
              "      <td>5</td>\n",
              "      <td>Marcus Houston</td>\n",
              "      <td>Thomas Jefferson (Denver, CO)</td>\n",
              "      <td>RB</td>\n",
              "      <td>6-0</td>\n",
              "      <td>208</td>\n",
              "      <td>5.0</td>\n",
              "      <td>0.998</td>\n",
              "      <td>Colorado</td>\n",
              "      <td>https://raw.githubusercontent.com/dathomas1/Nc...</td>\n",
              "    </tr>\n",
              "  </tbody>\n",
              "</table>\n",
              "</div>"
            ],
            "text/plain": [
              "  ranking  ...                                             source\n",
              "0       1  ...  https://raw.githubusercontent.com/dathomas1/Nc...\n",
              "1       2  ...  https://raw.githubusercontent.com/dathomas1/Nc...\n",
              "2       3  ...  https://raw.githubusercontent.com/dathomas1/Nc...\n",
              "3       4  ...  https://raw.githubusercontent.com/dathomas1/Nc...\n",
              "4       5  ...  https://raw.githubusercontent.com/dathomas1/Nc...\n",
              "\n",
              "[5 rows x 10 columns]"
            ]
          },
          "metadata": {
            "tags": []
          },
          "execution_count": 85
        }
      ]
    },
    {
      "cell_type": "code",
      "metadata": {
        "id": "y-xFlPx_uI_p"
      },
      "source": [
        "# Output dataframe so far\n",
        "df.to_csv('hs_recruits.csv')"
      ],
      "execution_count": 34,
      "outputs": []
    },
    {
      "cell_type": "markdown",
      "metadata": {
        "id": "ls-zH-4m6NxQ"
      },
      "source": [
        "## Clean Data\n",
        "While importing, I noticed that the 2018 CSV data shift all information one column over. This is because the CSV for 2018 doesn't capture values as strings within quotations"
      ]
    },
    {
      "cell_type": "code",
      "metadata": {
        "id": "KT2ayNjZ5EEn",
        "outputId": "3916879c-0cda-4e2c-e15f-be357cb1868c",
        "colab": {
          "base_uri": "https://localhost:8080/",
          "height": 165
        }
      },
      "source": [
        "df.query(\"ranking == 'Trevor Lawrence'\")"
      ],
      "execution_count": 75,
      "outputs": [
        {
          "output_type": "execute_result",
          "data": {
            "text/html": [
              "<div>\n",
              "<style scoped>\n",
              "    .dataframe tbody tr th:only-of-type {\n",
              "        vertical-align: middle;\n",
              "    }\n",
              "\n",
              "    .dataframe tbody tr th {\n",
              "        vertical-align: top;\n",
              "    }\n",
              "\n",
              "    .dataframe thead th {\n",
              "        text-align: right;\n",
              "    }\n",
              "</style>\n",
              "<table border=\"1\" class=\"dataframe\">\n",
              "  <thead>\n",
              "    <tr style=\"text-align: right;\">\n",
              "      <th></th>\n",
              "      <th>ranking</th>\n",
              "      <th>name</th>\n",
              "      <th>highSchool</th>\n",
              "      <th>position</th>\n",
              "      <th>height</th>\n",
              "      <th>weight</th>\n",
              "      <th>stars</th>\n",
              "      <th>rating</th>\n",
              "      <th>college</th>\n",
              "      <th>source</th>\n",
              "    </tr>\n",
              "  </thead>\n",
              "  <tbody>\n",
              "    <tr>\n",
              "      <th>43051</th>\n",
              "      <td>Trevor Lawrence</td>\n",
              "      <td>Cartersville (Cartersville</td>\n",
              "      <td>GA)</td>\n",
              "      <td>PRO</td>\n",
              "      <td>6-6</td>\n",
              "      <td>208</td>\n",
              "      <td>5.0</td>\n",
              "      <td>0.9999</td>\n",
              "      <td>Clemson</td>\n",
              "      <td>https://raw.githubusercontent.com/dathomas1/Nc...</td>\n",
              "    </tr>\n",
              "    <tr>\n",
              "      <th>46540</th>\n",
              "      <td>Trevor Lawrence</td>\n",
              "      <td>Whitehouse (Whitehouse</td>\n",
              "      <td>TX)</td>\n",
              "      <td>SDE</td>\n",
              "      <td>6-5</td>\n",
              "      <td>245</td>\n",
              "      <td>2.0</td>\n",
              "      <td>0.7497</td>\n",
              "      <td>uncommitted</td>\n",
              "      <td>https://raw.githubusercontent.com/dathomas1/Nc...</td>\n",
              "    </tr>\n",
              "  </tbody>\n",
              "</table>\n",
              "</div>"
            ],
            "text/plain": [
              "               ranking  ...                                             source\n",
              "43051  Trevor Lawrence  ...  https://raw.githubusercontent.com/dathomas1/Nc...\n",
              "46540  Trevor Lawrence  ...  https://raw.githubusercontent.com/dathomas1/Nc...\n",
              "\n",
              "[2 rows x 10 columns]"
            ]
          },
          "metadata": {
            "tags": []
          },
          "execution_count": 75
        }
      ]
    },
    {
      "cell_type": "markdown",
      "metadata": {
        "id": "lqC6FI_REWQc"
      },
      "source": [
        "I will create a new dataframe without 2018 for now, clean 2018 then recombine."
      ]
    },
    {
      "cell_type": "code",
      "metadata": {
        "id": "wIrA7zssEo6C",
        "outputId": "e7edbbf9-0eda-43ea-c839-b64a68db26bc",
        "colab": {
          "base_uri": "https://localhost:8080/"
        }
      },
      "source": [
        "url_2018 = \"https://raw.githubusercontent.com/dathomas1/NcaaTool/master/CSV/HighSchool%20-%202018%20Player%20Rankings.csv\"\n",
        "recruits_without_2018 = df[df.source != url_2018]\n",
        "print(\"Original Import Shape: \", df.shape)\n",
        "print(\"Without 2018 Shape: \", recruits_without_2018.shape)"
      ],
      "execution_count": 80,
      "outputs": [
        {
          "output_type": "stream",
          "text": [
            "Original Import Shape:  (51113, 10)\n",
            "Without 2018 Shape:  (47221, 10)\n"
          ],
          "name": "stdout"
        }
      ]
    },
    {
      "cell_type": "markdown",
      "metadata": {
        "id": "96-JbCUvFbQK"
      },
      "source": [
        "Import 2018 CSV and display"
      ]
    },
    {
      "cell_type": "code",
      "metadata": {
        "id": "8082EApsF1to",
        "outputId": "8a08014d-da75-4a57-da2e-3ce308fdc844",
        "colab": {
          "base_uri": "https://localhost:8080/",
          "height": 343
        }
      },
      "source": [
        "col_names_2018 = [\"ranking\", \"name\", \"highSchool\", \"state\", \"position\", \"height\",\"weight\",\"stars\",\"rating\",\"college\"]\n",
        "df_2018 = pd.read_csv(url_2018, header=0, names=col_names_2018)\n",
        "df_2018[\"source\"] = url_2018\n",
        "df_2018.head()"
      ],
      "execution_count": 86,
      "outputs": [
        {
          "output_type": "execute_result",
          "data": {
            "text/html": [
              "<div>\n",
              "<style scoped>\n",
              "    .dataframe tbody tr th:only-of-type {\n",
              "        vertical-align: middle;\n",
              "    }\n",
              "\n",
              "    .dataframe tbody tr th {\n",
              "        vertical-align: top;\n",
              "    }\n",
              "\n",
              "    .dataframe thead th {\n",
              "        text-align: right;\n",
              "    }\n",
              "</style>\n",
              "<table border=\"1\" class=\"dataframe\">\n",
              "  <thead>\n",
              "    <tr style=\"text-align: right;\">\n",
              "      <th></th>\n",
              "      <th>ranking</th>\n",
              "      <th>name</th>\n",
              "      <th>highSchool</th>\n",
              "      <th>state</th>\n",
              "      <th>position</th>\n",
              "      <th>height</th>\n",
              "      <th>weight</th>\n",
              "      <th>stars</th>\n",
              "      <th>rating</th>\n",
              "      <th>college</th>\n",
              "      <th>source</th>\n",
              "    </tr>\n",
              "  </thead>\n",
              "  <tbody>\n",
              "    <tr>\n",
              "      <th>0</th>\n",
              "      <td>1.0</td>\n",
              "      <td>Trevor Lawrence</td>\n",
              "      <td>Cartersville (Cartersville</td>\n",
              "      <td>GA)</td>\n",
              "      <td>PRO</td>\n",
              "      <td>6-6</td>\n",
              "      <td>208</td>\n",
              "      <td>5.0</td>\n",
              "      <td>0.9999</td>\n",
              "      <td>Clemson</td>\n",
              "      <td>https://raw.githubusercontent.com/dathomas1/Nc...</td>\n",
              "    </tr>\n",
              "    <tr>\n",
              "      <th>1</th>\n",
              "      <td>2.0</td>\n",
              "      <td>Justin Fields</td>\n",
              "      <td>Harrison (Kennesaw</td>\n",
              "      <td>GA)</td>\n",
              "      <td>DUAL</td>\n",
              "      <td>6-3</td>\n",
              "      <td>221</td>\n",
              "      <td>5.0</td>\n",
              "      <td>0.9998</td>\n",
              "      <td>Georgia</td>\n",
              "      <td>https://raw.githubusercontent.com/dathomas1/Nc...</td>\n",
              "    </tr>\n",
              "    <tr>\n",
              "      <th>2</th>\n",
              "      <td>3.0</td>\n",
              "      <td>Xavier Thomas</td>\n",
              "      <td>IMG Academy (Bradenton</td>\n",
              "      <td>FL)</td>\n",
              "      <td>SDE</td>\n",
              "      <td>6-3</td>\n",
              "      <td>260</td>\n",
              "      <td>5.0</td>\n",
              "      <td>0.9988</td>\n",
              "      <td>Clemson</td>\n",
              "      <td>https://raw.githubusercontent.com/dathomas1/Nc...</td>\n",
              "    </tr>\n",
              "    <tr>\n",
              "      <th>3</th>\n",
              "      <td>4.0</td>\n",
              "      <td>Eyabi Anoma</td>\n",
              "      <td>St. Frances Academy (Baltimore</td>\n",
              "      <td>MD)</td>\n",
              "      <td>WDE</td>\n",
              "      <td>6-5</td>\n",
              "      <td>235</td>\n",
              "      <td>5.0</td>\n",
              "      <td>0.9987</td>\n",
              "      <td>Alabama</td>\n",
              "      <td>https://raw.githubusercontent.com/dathomas1/Nc...</td>\n",
              "    </tr>\n",
              "    <tr>\n",
              "      <th>4</th>\n",
              "      <td>5.0</td>\n",
              "      <td>Micah Parsons</td>\n",
              "      <td>Harrisburg (Harrisburg</td>\n",
              "      <td>PA)</td>\n",
              "      <td>WDE</td>\n",
              "      <td>6-3</td>\n",
              "      <td>235</td>\n",
              "      <td>5.0</td>\n",
              "      <td>0.9982</td>\n",
              "      <td>Penn State</td>\n",
              "      <td>https://raw.githubusercontent.com/dathomas1/Nc...</td>\n",
              "    </tr>\n",
              "  </tbody>\n",
              "</table>\n",
              "</div>"
            ],
            "text/plain": [
              "   ranking  ...                                             source\n",
              "0      1.0  ...  https://raw.githubusercontent.com/dathomas1/Nc...\n",
              "1      2.0  ...  https://raw.githubusercontent.com/dathomas1/Nc...\n",
              "2      3.0  ...  https://raw.githubusercontent.com/dathomas1/Nc...\n",
              "3      4.0  ...  https://raw.githubusercontent.com/dathomas1/Nc...\n",
              "4      5.0  ...  https://raw.githubusercontent.com/dathomas1/Nc...\n",
              "\n",
              "[5 rows x 11 columns]"
            ]
          },
          "metadata": {
            "tags": []
          },
          "execution_count": 86
        }
      ]
    }
  ]
}